{
 "cells": [
  {
   "cell_type": "code",
   "execution_count": 6,
   "id": "d2545a1b",
   "metadata": {},
   "outputs": [],
   "source": [
    "import numpy as np\n",
    "import pandas as pd\n",
    "import seaborn as sns\n",
    "import matplotlib as plt\n",
    "import json\n",
    "\n"
   ]
  },
  {
   "cell_type": "code",
   "execution_count": 31,
   "id": "1cb3c71d",
   "metadata": {},
   "outputs": [],
   "source": [
    "data = pd.json_normalize( pd.read_json( 'players.json' )[ 'Data' ].Value['Players'] )"
   ]
  },
  {
   "cell_type": "code",
   "execution_count": 38,
   "id": "7bd7e0ac",
   "metadata": {},
   "outputs": [],
   "source": [
    "output = data[ ['Name', 'ShortName', 'TeamName', 'TeamShortName', 'SkillName', 'IS_FP', 'Value'] ]"
   ]
  },
  {
   "cell_type": "code",
   "execution_count": 39,
   "id": "6424279d",
   "metadata": {},
   "outputs": [],
   "source": [
    "output.to_csv('player list.csv')"
   ]
  }
 ],
 "metadata": {
  "kernelspec": {
   "display_name": "Python 3",
   "language": "python",
   "name": "python3"
  },
  "language_info": {
   "codemirror_mode": {
    "name": "ipython",
    "version": 3
   },
   "file_extension": ".py",
   "mimetype": "text/x-python",
   "name": "python",
   "nbconvert_exporter": "python",
   "pygments_lexer": "ipython3",
   "version": "3.8.10"
  },
  "varInspector": {
   "cols": {
    "lenName": 16,
    "lenType": 16,
    "lenVar": 40
   },
   "kernels_config": {
    "python": {
     "delete_cmd_postfix": "",
     "delete_cmd_prefix": "del ",
     "library": "var_list.py",
     "varRefreshCmd": "print(var_dic_list())"
    },
    "r": {
     "delete_cmd_postfix": ") ",
     "delete_cmd_prefix": "rm(",
     "library": "var_list.r",
     "varRefreshCmd": "cat(var_dic_list()) "
    }
   },
   "types_to_exclude": [
    "module",
    "function",
    "builtin_function_or_method",
    "instance",
    "_Feature"
   ],
   "window_display": false
  }
 },
 "nbformat": 4,
 "nbformat_minor": 5
}
